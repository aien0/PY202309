{
 "cells": [
  {
   "cell_type": "code",
   "execution_count": 1,
   "id": "321554e3",
   "metadata": {},
   "outputs": [
    {
     "name": "stdout",
     "output_type": "stream",
     "text": [
      "What do you call a bear with no teeth? \n",
      "A gummy bear!\n"
     ]
    }
   ],
   "source": [
    "print(\"What do you call a bear with no teeth? \\nA gummy bear!\")"
   ]
  },
  {
   "cell_type": "code",
   "execution_count": 2,
   "id": "deeecd94",
   "metadata": {},
   "outputs": [
    {
     "name": "stdout",
     "output_type": "stream",
     "text": [
      "Enter your name: Misoo\n",
      "Hello Misoo\n"
     ]
    }
   ],
   "source": [
    "name = input(\"Enter your name: \")\n",
    "print(\"Hello\", name)"
   ]
  },
  {
   "cell_type": "code",
   "execution_count": 3,
   "id": "327a20ee",
   "metadata": {},
   "outputs": [
    {
     "name": "stdout",
     "output_type": "stream",
     "text": [
      "Enter your name: Misoo\n",
      "Enter your last name: Kim\n",
      "Hello Misoo Kim\n"
     ]
    }
   ],
   "source": [
    "name = input(\"Enter your name: \")\n",
    "last_name = input(\"Enter your last name: \")\n",
    "print(\"Hello\", name, last_name)"
   ]
  },
  {
   "cell_type": "code",
   "execution_count": 6,
   "id": "0be7365f",
   "metadata": {},
   "outputs": [
    {
     "name": "stdout",
     "output_type": "stream",
     "text": [
      "Input the first number: 10\n",
      "Input the second number: 30\n",
      "10 + 30 = 40\n"
     ]
    }
   ],
   "source": [
    "num1 = int(input(\"Input the first number: \"))\n",
    "num2 = int(input(\"Input the second number: \"))\n",
    "print(num1, \"+\", num2, \"=\", num1+num2)"
   ]
  },
  {
   "cell_type": "code",
   "execution_count": 8,
   "id": "8dd9559e",
   "metadata": {},
   "outputs": [
    {
     "name": "stdout",
     "output_type": "stream",
     "text": [
      "Input the first number: 10\n",
      "Input the second number: 20\n",
      "Input the third number: 30\n",
      "10 + 20 + 30 = 60\n",
      "( 10 + 20 ) * 30 = 900\n"
     ]
    }
   ],
   "source": [
    "num1 = int(input(\"Input the first number: \"))\n",
    "num2 = int(input(\"Input the second number: \"))\n",
    "num3 = int(input(\"Input the third number: \"))\n",
    "print(num1, \"+\", num2, \"+\", num3, \"=\", num1+num2+num3)\n",
    "print(\"(\", num1, \"+\", num2, \")\", \"*\", num3, \"=\", (num1+num2)*num3)"
   ]
  },
  {
   "cell_type": "code",
   "execution_count": 14,
   "id": "f588760a",
   "metadata": {},
   "outputs": [
    {
     "name": "stdout",
     "output_type": "stream",
     "text": [
      "Enter the number of slices of pizza you started with: 10\n",
      "How many slices have you eaten: 5\n",
      "You have 5 slicing remaining\n"
     ]
    }
   ],
   "source": [
    "pizza_slices = int(input(\"Enter the number of slices of pizza you started with: \"))\n",
    "eaten_slices = int(pizza_slices/2)\n",
    "print(\"How many slices have you eaten:\", eaten_slices)\n",
    "print(\"You have %d slicing remaining\" %eaten_slices)"
   ]
  },
  {
   "cell_type": "code",
   "execution_count": null,
   "id": "abaa11c7",
   "metadata": {},
   "outputs": [],
   "source": [
    "name = input(\"What is your name?\")\n",
    "age = input(\"How old are you?\")"
   ]
  },
  {
   "cell_type": "code",
   "execution_count": null,
   "id": "809a6c2a",
   "metadata": {},
   "outputs": [],
   "source": []
  }
 ],
 "metadata": {
  "kernelspec": {
   "display_name": "Python 3 (ipykernel)",
   "language": "python",
   "name": "python3"
  },
  "language_info": {
   "codemirror_mode": {
    "name": "ipython",
    "version": 3
   },
   "file_extension": ".py",
   "mimetype": "text/x-python",
   "name": "python",
   "nbconvert_exporter": "python",
   "pygments_lexer": "ipython3",
   "version": "3.10.9"
  }
 },
 "nbformat": 4,
 "nbformat_minor": 5
}
