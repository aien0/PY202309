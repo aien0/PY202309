{
 "cells": [
  {
   "cell_type": "code",
   "execution_count": 3,
   "id": "cd5bd168",
   "metadata": {},
   "outputs": [
    {
     "name": "stdout",
     "output_type": "stream",
     "text": [
      "turtle bye!\n"
     ]
    }
   ],
   "source": [
    "import turtle\n",
    "\n",
    "# 화면의 너비와 높이 설정\n",
    "screen_width, screen_height = 100, 100\n",
    "\n",
    "# 거북이 그래픽 창의 제목 설정\n",
    "turtle.title(\"Drawing rainbows circles\")\n",
    "turtle.shape(\"turtle\")\n",
    "\n",
    "# 그래픽 창의 크기 및 스크린 크기 설정\n",
    "turtle.setup(width = screen_width + 50, height = screen_height + 50)\n",
    "turtle.screensize(screen_width, screen_height)\n",
    "\n",
    "# 펜을 들고 시작 위치로 이동\n",
    "turtle.penup()\n",
    "turtle.goto(0, -screen_height / 2)\n",
    "turtle.pendown()\n",
    "\n",
    "# 거북이 속도 설정\n",
    "turtle.speed(5)\n",
    "\n",
    "# 반복해서 원을 그림\n",
    "for radius in range(1, 50):\n",
    "    # 반지름에 따라 색상 선택\n",
    "    if radius % 7 == 0:\n",
    "        turtle.pencolor('red')\n",
    "    elif radius % 7 == 1:\n",
    "        turtle.pencolor('orange')\n",
    "    elif radius % 7 == 2:\n",
    "        turtle.pencolor('yellow')\n",
    "    elif radius % 7 == 3:\n",
    "        turtle.pencolor('green')\n",
    "    elif radius % 7 == 4:\n",
    "        turtle.pencolor('blue')\n",
    "    elif radius % 7 == 5:\n",
    "        turtle.pencolor('navyblue')\n",
    "    elif radius % 7 == 6:\n",
    "        turtle.pencolor('purple')\n",
    "    \n",
    "    turtle.circle(radius)\n",
    "    \n",
    "# 창을 닫음\n",
    "turtle.done()\n",
    "\n",
    "# 예외 처리\n",
    "try:\n",
    "    turtle.bye()\n",
    "except:\n",
    "    print(\"turtle bye!\")"
   ]
  },
  {
   "cell_type": "code",
   "execution_count": null,
   "id": "1c86afa8",
   "metadata": {},
   "outputs": [],
   "source": []
  }
 ],
 "metadata": {
  "kernelspec": {
   "display_name": "Python 3 (ipykernel)",
   "language": "python",
   "name": "python3"
  },
  "language_info": {
   "codemirror_mode": {
    "name": "ipython",
    "version": 3
   },
   "file_extension": ".py",
   "mimetype": "text/x-python",
   "name": "python",
   "nbconvert_exporter": "python",
   "pygments_lexer": "ipython3",
   "version": "3.10.9"
  }
 },
 "nbformat": 4,
 "nbformat_minor": 5
}
