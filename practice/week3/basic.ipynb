{
 "cells": [
  {
   "cell_type": "code",
   "execution_count": 1,
   "id": "34218031",
   "metadata": {},
   "outputs": [
    {
     "name": "stdout",
     "output_type": "stream",
     "text": [
      "1. current list =  [30, 10, 20, 50, 40]\n",
      "2. append(60) =  [30, 10, 20, 50, 40, 60]\n",
      "3. item after pop() =  60\n",
      "4. list after pop() =  [30, 10, 20, 50, 40]\n",
      "5. after sort() =  [10, 20, 30, 40, 50]\n",
      "6. after reverse() =  [50, 40, 30, 20, 10]\n",
      "7. index for 20 =  3\n",
      "8. after insert(2, 222) =  [50, 40, 222, 30, 20, 10]\n",
      "9. after remove(2, 222) =  [50, 40, 30, 20, 10]\n",
      "10. after extend([100, 200, 100]) =  [50, 40, 30, 20, 10, 100, 200, 100]\n",
      "11. the number of 100 =  2\n"
     ]
    }
   ],
   "source": [
    "sample_list = [30, 10, 20, 50, 40]\n",
    "print(\"1. current list = \", sample_list)\n",
    "\n",
    "sample_list.append(60)\n",
    "print(\"2. append(60) = \", sample_list) # 배열의 끝에 60 추가\n",
    "\n",
    "print(\"3. item after pop() = \", sample_list.pop()) # return the last item\n",
    "print(\"4. list after pop() = \", sample_list)\n",
    "\n",
    "sample_list.sort()\n",
    "print(\"5. after sort() = \", sample_list) # 순서대로 정렬\n",
    "\n",
    "sample_list.reverse()\n",
    "print(\"6. after reverse() = \", sample_list) # 반대로\n",
    "\n",
    "print(\"7. index for 20 = \", sample_list.index(20)) # 20이 인덱스 어디에 위치해있는지\n",
    "\n",
    "sample_list.insert(2, 222)\n",
    "print(\"8. after insert(2, 222) = \", sample_list) # 인덱스 2의 위치에 222 삽입\n",
    "\n",
    "sample_list.remove(222)\n",
    "print(\"9. after remove(2, 222) = \", sample_list) # 인덱스 2의 위치에 있는 222 삭제\n",
    "\n",
    "new_list = [100, 200, 100]\n",
    "sample_list.extend(new_list)\n",
    "print(\"10. after extend([100, 200, 100]) = \", sample_list) # 기존 sample_list에 new_list 병합\n",
    "\n",
    "print(\"11. the number of 100 = \", sample_list.count(100)) # 리스트에 100이 몇번 나왔는지"
   ]
  },
  {
   "cell_type": "code",
   "execution_count": 2,
   "id": "1fd01198",
   "metadata": {},
   "outputs": [
    {
     "name": "stdout",
     "output_type": "stream",
     "text": [
      "turtle bye!\n"
     ]
    }
   ],
   "source": [
    "import turtle\n",
    "t = turtle.Turtle()\n",
    "radius_list = [100, 200, 50]\n",
    "move = 20\n",
    "\n",
    "t.shape(\"turtle\")\n",
    "\n",
    "for i in range(0, len(radius_list)): # 3번 반복\n",
    "    radius = radius_list[i]\n",
    "    t.circle(radius)\n",
    "    t.fd(move)\n",
    "\n",
    "\n",
    "turtle.done()\n",
    "try:\n",
    "    turtle.bye()\n",
    "except:\n",
    "    print(\"turtle bye!\")"
   ]
  }
 ],
 "metadata": {
  "kernelspec": {
   "display_name": "Python 3 (ipykernel)",
   "language": "python",
   "name": "python3"
  },
  "language_info": {
   "codemirror_mode": {
    "name": "ipython",
    "version": 3
   },
   "file_extension": ".py",
   "mimetype": "text/x-python",
   "name": "python",
   "nbconvert_exporter": "python",
   "pygments_lexer": "ipython3",
   "version": "3.10.9"
  }
 },
 "nbformat": 4,
 "nbformat_minor": 5
}
