{
 "cells": [
  {
   "cell_type": "code",
   "execution_count": 4,
   "id": "2894797c",
   "metadata": {},
   "outputs": [
    {
     "name": "stdout",
     "output_type": "stream",
     "text": [
      "** Start Lotto **\n",
      "Number:  1 29 32 33 42 45 "
     ]
    }
   ],
   "source": [
    "import random\n",
    "\n",
    "# 1부터 45까지의 난수를 반환하는 함수\n",
    "def get_number():\n",
    "    return random.randrange(1,46)\n",
    "\n",
    "lotto = [] # 로또 번호 저장할 리스트 초기화\n",
    "num = 0\n",
    "print(\"** Start Lotto **\")\n",
    "\n",
    "while True:\n",
    "    num = get_number() # 1부터 45까지의 난수를 생성\n",
    "    \n",
    "    # 생성한 난수가 리스트에 없으면 추가\n",
    "    if lotto.count(num) == 0:\n",
    "        lotto.append(num)\n",
    "        \n",
    "    # 6개의 숫자가 모이면 반복문 종료    \n",
    "    if len(lotto) >= 6:\n",
    "        break\n",
    "        \n",
    "print(\"Number: \", end = ' ')\n",
    "lotto.sort() # 로또 번호 정렬\n",
    "for number in lotto:\n",
    "    print(number, end = ' ')"
   ]
  }
 ],
 "metadata": {
  "kernelspec": {
   "display_name": "Python 3 (ipykernel)",
   "language": "python",
   "name": "python3"
  },
  "language_info": {
   "codemirror_mode": {
    "name": "ipython",
    "version": 3
   },
   "file_extension": ".py",
   "mimetype": "text/x-python",
   "name": "python",
   "nbconvert_exporter": "python",
   "pygments_lexer": "ipython3",
   "version": "3.10.9"
  }
 },
 "nbformat": 4,
 "nbformat_minor": 5
}
