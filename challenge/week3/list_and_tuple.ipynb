{
 "cells": [
  {
   "cell_type": "code",
   "execution_count": 1,
   "id": "a21dd329",
   "metadata": {},
   "outputs": [
    {
     "name": "stdout",
     "output_type": "stream",
     "text": [
      "Enter 1st number:40\n",
      "Enter 2nd number:20\n",
      "Enter 3rd number:60\n",
      "Enter 4th number:30\n",
      "Enter 5th number:70\n",
      "max:  70\n",
      "min:  20\n",
      "average:  44.0\n"
     ]
    }
   ],
   "source": [
    "num = [0,0,0,0,0]\n",
    "\n",
    "num[0] = int(input(\"Enter 1st number:\")) # 기본적으로 input은 str 타입\n",
    "num[1] = int(input(\"Enter 2nd number:\"))\n",
    "num[2] = int(input(\"Enter 3rd number:\"))\n",
    "num[3] = int(input(\"Enter 4th number:\"))\n",
    "num[4] = int(input(\"Enter 5th number:\"))\n",
    "\n",
    "print(\"max: \", max(num))\n",
    "print(\"min: \", min(num))\n",
    "print(\"average: \", sum(num)/len(num)) # 평균 = 전체 합에서 리스트 안의 아이템 수로 나눔"
   ]
  },
  {
   "cell_type": "code",
   "execution_count": 2,
   "id": "a7569db1",
   "metadata": {},
   "outputs": [
    {
     "name": "stdout",
     "output_type": "stream",
     "text": [
      "What is your favorite singer?oh my girl\n"
     ]
    },
    {
     "data": {
      "text/plain": [
       "['BTS', 'Black Pink', 'oh my girl']"
      ]
     },
     "execution_count": 2,
     "metadata": {},
     "output_type": "execute_result"
    }
   ],
   "source": [
    "singers = ['BTS', 'Black Pink']\n",
    "\n",
    "favorite_singer = input(\"What is your favorite singer?\")\n",
    "\n",
    "singers.append(favorite_singer) # append - 요소 추가\n",
    "singers"
   ]
  },
  {
   "cell_type": "code",
   "execution_count": 3,
   "id": "5d52be49",
   "metadata": {},
   "outputs": [
    {
     "name": "stdout",
     "output_type": "stream",
     "text": [
      "('tennis', 'football', 'baseball', 'basketball', 'golf')\n",
      "Please enter one of the sport name from above:golf\n",
      "golf has index number: 4\n",
      "Enter a number between 0 and 4:2\n",
      "baseball\n"
     ]
    }
   ],
   "source": [
    "sports_names = ('tennis', 'football', 'baseball', 'basketball', 'golf')\n",
    "print(sports_names)\n",
    "\n",
    "select = input(\"Please enter one of the sport name from above:\")\n",
    "print(select, \"has index number:\", sports_names.index(select))\n",
    "\n",
    "number = int(input(\"Enter a number between 0 and 4:\"))\n",
    "print(sports_names[number])"
   ]
  },
  {
   "cell_type": "code",
   "execution_count": 4,
   "id": "6e1af0d7",
   "metadata": {},
   "outputs": [
    {
     "ename": "NameError",
     "evalue": "name 'Americano' is not defined",
     "output_type": "error",
     "traceback": [
      "\u001b[1;31m---------------------------------------------------------------------------\u001b[0m",
      "\u001b[1;31mNameError\u001b[0m                                 Traceback (most recent call last)",
      "Cell \u001b[1;32mIn[4], line 1\u001b[0m\n\u001b[1;32m----> 1\u001b[0m menu \u001b[38;5;241m=\u001b[39m (\u001b[43mAmericano\u001b[49m, CaffeLatte, CaffeMocha, IcedTea)\n\u001b[0;32m      2\u001b[0m \u001b[38;5;28mprint\u001b[39m(\u001b[38;5;124m\"\u001b[39m\u001b[38;5;124mmenu:\u001b[39m\u001b[38;5;124m\"\u001b[39m, menu)\n\u001b[0;32m      4\u001b[0m yesterday \u001b[38;5;241m=\u001b[39m []\n",
      "\u001b[1;31mNameError\u001b[0m: name 'Americano' is not defined"
     ]
    }
   ],
   "source": [
    "menu = (Americano, CaffeLatte, CaffeMocha, IcedTea)\n",
    "print(\"menu:\", menu)\n",
    "\n",
    "yesterday = []\n",
    "today = []\n",
    "\n",
    "num[4] = int(input(\"Enter 5th number:\"))"
   ]
  }
 ],
 "metadata": {
  "kernelspec": {
   "display_name": "Python 3 (ipykernel)",
   "language": "python",
   "name": "python3"
  },
  "language_info": {
   "codemirror_mode": {
    "name": "ipython",
    "version": 3
   },
   "file_extension": ".py",
   "mimetype": "text/x-python",
   "name": "python",
   "nbconvert_exporter": "python",
   "pygments_lexer": "ipython3",
   "version": "3.10.9"
  }
 },
 "nbformat": 4,
 "nbformat_minor": 5
}
