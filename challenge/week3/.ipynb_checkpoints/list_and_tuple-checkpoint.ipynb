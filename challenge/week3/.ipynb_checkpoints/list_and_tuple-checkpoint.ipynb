{
 "cells": [
  {
   "cell_type": "code",
   "execution_count": 1,
   "id": "a21dd329",
   "metadata": {},
   "outputs": [
    {
     "name": "stdout",
     "output_type": "stream",
     "text": [
      "Enter 1st number:20\n",
      "Enter 2nd number:30\n",
      "Enter 3rd number:40\n",
      "Enter 4th number:50\n",
      "Enter 5th number:1\n",
      "max:  50\n",
      "min:  1\n",
      "average:  28.2\n"
     ]
    }
   ],
   "source": [
    "num = [0,0,0,0,0]\n",
    "\n",
    "num[0] = int(input(\"Enter 1st number:\")) # 기본적으로 input은 str 타입\n",
    "num[1] = int(input(\"Enter 2nd number:\"))\n",
    "num[2] = int(input(\"Enter 3rd number:\"))\n",
    "num[3] = int(input(\"Enter 4th number:\"))\n",
    "num[4] = int(input(\"Enter 5th number:\"))\n",
    "\n",
    "print(\"max: \", max(num))\n",
    "print(\"min: \", min(num))\n",
    "print(\"average: \", sum(num)/len(num)) # 평균 = 전체 합에서 리스트 안의 아이템 수로 나눔"
   ]
  },
  {
   "cell_type": "code",
   "execution_count": 2,
   "id": "a7569db1",
   "metadata": {},
   "outputs": [
    {
     "name": "stdout",
     "output_type": "stream",
     "text": [
      "What is your favorite singer?Oh My Girl\n",
      "['BTS', 'Black Pink', 'Oh My Girl']\n"
     ]
    }
   ],
   "source": [
    "singers = ['BTS', 'Black Pink']\n",
    "\n",
    "favorite_singer = input(\"What is your favorite singer?\")\n",
    "\n",
    "singers.append(favorite_singer) # append - 요소 추가\n",
    "singers.sort()\n",
    "print(singers)"
   ]
  },
  {
   "cell_type": "code",
   "execution_count": 3,
   "id": "5d52be49",
   "metadata": {},
   "outputs": [
    {
     "name": "stdout",
     "output_type": "stream",
     "text": [
      "('tennis', 'football', 'baseball', 'basketball', 'golf')\n",
      "\n",
      "Please enter one of the sport name from above:football\n",
      "football has index number: 1\n",
      "\n",
      "Enter a number between 0 and 4: 4\n",
      "golf\n"
     ]
    }
   ],
   "source": [
    "sports_names = ('tennis', 'football', 'baseball', 'basketball', 'golf')\n",
    "print(sports_names)\n",
    "print()\n",
    "\n",
    "# 사용자로부터 스포츠 이름 입력 받기\n",
    "select = input(\"Please enter one of the sport name from above:\")\n",
    "print(select, \"has index number:\", sports_names.index(select))\n",
    "print()\n",
    "\n",
    "# 사용자로부터 0과 4 사이의 숫자 입력 받기\n",
    "number = int(input(\"Enter a number between 0 and 4: \"))\n",
    "\n",
    "# 입력된 숫자에 해당하는 인덱스의 스포츠 이름 출력\n",
    "print(sports_names[number])"
   ]
  },
  {
   "cell_type": "code",
   "execution_count": 4,
   "id": "6e1af0d7",
   "metadata": {},
   "outputs": [
    {
     "name": "stdout",
     "output_type": "stream",
     "text": [
      "menu: Americano, Caffe Latte, Caffe Mocha, Iced Tea\n",
      "Enter the 1st item sold yesterday: Americano\n",
      "Enter the 2nd item sold yesterday: Americano\n",
      "Enter the 3rd item sold yesterday: Caffe Latte\n",
      "Enter the 4th item sold yesterday: Caffe Mocha\n",
      "Enter the 5th item sold yesterday: Americano\n",
      "Enter the 1st item sold today: Iced Tea\n",
      "Enter the 2nd item sold today: Iced Tea\n",
      "Enter the 3rd item sold today: Caffe Latte\n",
      "Enter the 4th item sold today: Americano\n",
      "Enter the 5th item sold today: Americano\n",
      "Yesterday sales:  Americano Americano Caffe Latte Caffe Mocha Americano\n",
      "Today sales:  Iced Tea Iced Tea Caffe Latte Americano Americano\n",
      "Total sales:  Americano Americano Caffe Latte Caffe Mocha Americano Iced Tea Iced Tea Caffe Latte Americano Americano\n",
      "Americano sales:  5\n"
     ]
    }
   ],
   "source": [
    "print(\"menu: Americano, Caffe Latte, Caffe Mocha, Iced Tea\")\n",
    "\n",
    "# 어제 판매된 항목 저장할 리스트 초기화\n",
    "yesterday_list = []\n",
    "yesterday_list.append(input(\"Enter the 1st item sold yesterday: \"))\n",
    "yesterday_list.append(input(\"Enter the 2nd item sold yesterday: \"))\n",
    "yesterday_list.append(input(\"Enter the 3rd item sold yesterday: \"))\n",
    "yesterday_list.append(input(\"Enter the 4th item sold yesterday: \"))\n",
    "yesterday_list.append(input(\"Enter the 5th item sold yesterday: \"))\n",
    "\n",
    "# 오늘 판매된 항목 저장할 리스트 초기화\n",
    "today_list = []\n",
    "today_list.append(input(\"Enter the 1st item sold today: \"))\n",
    "today_list.append(input(\"Enter the 2nd item sold today: \"))\n",
    "today_list.append(input(\"Enter the 3rd item sold today: \"))\n",
    "today_list.append(input(\"Enter the 4th item sold today: \"))\n",
    "today_list.append(input(\"Enter the 5th item sold today: \"))\n",
    "\n",
    "# 어제와 오늘의 판매 항목 출력\n",
    "print(\"Yesterday sales: \", *yesterday_list)\n",
    "print(\"Today sales: \", *today_list)\n",
    "\n",
    "union_list = yesterday_list + today_list\n",
    "\n",
    "# 전체 판매 항목 출력\n",
    "print(\"Total sales: \", *union_list)\n",
    "\n",
    "# Americano 판매 횟수 출력\n",
    "print(\"Americano sales: \", union_list.count(\"Americano\"))"
   ]
  }
 ],
 "metadata": {
  "kernelspec": {
   "display_name": "Python 3 (ipykernel)",
   "language": "python",
   "name": "python3"
  },
  "language_info": {
   "codemirror_mode": {
    "name": "ipython",
    "version": 3
   },
   "file_extension": ".py",
   "mimetype": "text/x-python",
   "name": "python",
   "nbconvert_exporter": "python",
   "pygments_lexer": "ipython3",
   "version": "3.10.9"
  }
 },
 "nbformat": 4,
 "nbformat_minor": 5
}
