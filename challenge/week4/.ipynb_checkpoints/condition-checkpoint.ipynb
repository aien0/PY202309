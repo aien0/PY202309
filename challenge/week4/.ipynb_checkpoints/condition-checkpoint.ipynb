{
 "cells": [
  {
   "cell_type": "code",
   "execution_count": 1,
   "id": "52b3c82f",
   "metadata": {},
   "outputs": [
    {
     "name": "stdout",
     "output_type": "stream",
     "text": [
      "Is it raining? (Y/N)N\n",
      "Is it windy? (Y/N)Y\n",
      "Please take a coat\n"
     ]
    }
   ],
   "source": [
    "# 사용자로부터 입력 받음\n",
    "rain = input(\"Is it raining? (Y/N)\")\n",
    "wind = input(\"Is it windy? (Y/N)\")\n",
    "\n",
    "# 입력이 유효한지 확인하고, 유효하지 않은 경우 오류 메시지 출력\n",
    "if ((rain != 'Y') and (rain != 'N')):\n",
    "    print(\"Incorrect Input\")\n",
    "    \n",
    "elif ((wind != 'Y') and (wind != 'N')):\n",
    "    print(\"Incorrect Input\")\n",
    "\n",
    "# 비와 바람의 조합에 따라 적절한 조언 출력\n",
    "if ((rain == 'Y') and (wind == 'Y')):\n",
    "    print(\"It is too windy for an umbrella\")\n",
    "    \n",
    "if ((rain == 'Y') and (wind == 'N')):\n",
    "    print(\"Take an umbrella\")\n",
    "    \n",
    "if ((rain == 'N') and (wind == 'Y')):\n",
    "    print(\"Please take a coat\")\n",
    "\n",
    "if ((rain == 'N') and (wind == 'N')):\n",
    "    print(\"Have a nice day\")"
   ]
  }
 ],
 "metadata": {
  "kernelspec": {
   "display_name": "Python 3 (ipykernel)",
   "language": "python",
   "name": "python3"
  },
  "language_info": {
   "codemirror_mode": {
    "name": "ipython",
    "version": 3
   },
   "file_extension": ".py",
   "mimetype": "text/x-python",
   "name": "python",
   "nbconvert_exporter": "python",
   "pygments_lexer": "ipython3",
   "version": "3.10.9"
  }
 },
 "nbformat": 4,
 "nbformat_minor": 5
}
