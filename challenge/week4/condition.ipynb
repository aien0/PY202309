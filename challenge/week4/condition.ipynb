{
 "cells": [
  {
   "cell_type": "code",
   "execution_count": 17,
   "id": "52b3c82f",
   "metadata": {},
   "outputs": [
    {
     "name": "stdout",
     "output_type": "stream",
     "text": [
      "Is it raining? (Y/N)O\n",
      "Is it windy? (Y/N)O\n",
      "Incorrect Input\n"
     ]
    }
   ],
   "source": [
    "rain = input(\"Is it raining? (Y/N)\")\n",
    "wind = input(\"Is it windy? (Y/N)\")\n",
    "\n",
    "if ((rain != 'Y') and (rain != 'N')):\n",
    "    print(\"Incorrect Input\")\n",
    "    \n",
    "elif ((wind != 'Y') and (wind != 'N')):\n",
    "    print(\"Incorrect Input\")\n",
    "    \n",
    "if ((rain == 'Y') and (wind == 'Y')):\n",
    "    print(\"It is too windy for an umbrella\")\n",
    "    \n",
    "if ((rain == 'Y') and (wind == 'N')):\n",
    "    print(\"Take an umbrella\")\n",
    "    \n",
    "if ((rain == 'N') and (wind == 'Y')):\n",
    "    print(\"Please take a coat\")\n",
    "\n",
    "if ((rain == 'N') and (wind == 'N')):\n",
    "    print(\"Have a nice day\")"
   ]
  },
  {
   "cell_type": "code",
   "execution_count": null,
   "id": "129093a8",
   "metadata": {},
   "outputs": [],
   "source": []
  }
 ],
 "metadata": {
  "kernelspec": {
   "display_name": "Python 3 (ipykernel)",
   "language": "python",
   "name": "python3"
  },
  "language_info": {
   "codemirror_mode": {
    "name": "ipython",
    "version": 3
   },
   "file_extension": ".py",
   "mimetype": "text/x-python",
   "name": "python",
   "nbconvert_exporter": "python",
   "pygments_lexer": "ipython3",
   "version": "3.10.9"
  }
 },
 "nbformat": 4,
 "nbformat_minor": 5
}
