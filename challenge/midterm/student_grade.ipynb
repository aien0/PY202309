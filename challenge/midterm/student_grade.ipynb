{
 "cells": [
  {
   "cell_type": "markdown",
   "id": "90d155cf",
   "metadata": {},
   "source": [
    "### 4. CSV-based grade manager"
   ]
  },
  {
   "cell_type": "code",
   "execution_count": 27,
   "id": "a1313904",
   "metadata": {},
   "outputs": [
    {
     "name": "stdout",
     "output_type": "stream",
     "text": [
      "실바의 평균 점수는 73.66666666666667입니다.\n",
      "산토스의 평균 점수는 86.93333333333334입니다.\n",
      "맥그리거의 평균 점수는 85.7입니다.\n",
      "알도의 평균 점수는 85.43333333333332입니다.\n",
      "로우지의 평균 점수는 83.10000000000001입니다.\n",
      "누네스의 평균 점수는 85.93333333333334입니다.\n"
     ]
    }
   ],
   "source": [
    "# TODO 2: 학생 별 평균 점수를 계산\n",
    "def getAverage(numbers):\n",
    "    if len(numbers) > 0:\n",
    "        return sum(numbers) / len(numbers)\n",
    "    else:\n",
    "        return 0\n",
    "    \n",
    "# TODO 1: 학생 정보를 딕셔너리에 저장\n",
    "def loadData(file_path):\n",
    "    lines = open(file_path, \"r\", encoding=\"utf8\").readlines()\n",
    "\n",
    "    # 학생 정보를 저장할 딕셔너리\n",
    "    student_data = {}\n",
    "\n",
    "    # 각 학생의 성적과 평균을 계산하고 딕셔너리에 저장\n",
    "    for line in lines[1:]:  # 첫 줄 무시\n",
    "        data = line.strip().split(',')\n",
    "        name = data[0]\n",
    "        scores = list(map(float, data[1:]))\n",
    "        average_score = getAverage(scores) # getAverage() 함수 이용\n",
    "\n",
    "        # 딕셔너리에 학생 정보 저장\n",
    "        student_data[name] = {\n",
    "            'scores': scores,\n",
    "            'average_score': average_score\n",
    "        }\n",
    "\n",
    "    # 딕셔너리 반환\n",
    "    return student_data\n",
    "\n",
    "\n",
    "# 메인 부분\n",
    "if __name__ == \"__main__\":\n",
    "    # loadData 함수 호출\n",
    "    student_data = loadData(\"students.csv\")\n",
    "\n",
    "    # 평균 점수 출력 및 파일 저장\n",
    "    with open(\"average.txt\", \"w\", encoding=\"utf8\") as file:\n",
    "        for name, data in student_data.items():\n",
    "            # 출력\n",
    "            print(\"%s의 평균 점수는 %s입니다.\" % (name, data['average_score']))\n",
    "            # 파일에 저장\n",
    "            file.write(\"%s의 평균 점수는 %s입니다.\\n\" % (name, data['average_score']))"
   ]
  },
  {
   "cell_type": "code",
   "execution_count": null,
   "id": "09a861c4",
   "metadata": {},
   "outputs": [],
   "source": []
  }
 ],
 "metadata": {
  "kernelspec": {
   "display_name": "Python 3 (ipykernel)",
   "language": "python",
   "name": "python3"
  },
  "language_info": {
   "codemirror_mode": {
    "name": "ipython",
    "version": 3
   },
   "file_extension": ".py",
   "mimetype": "text/x-python",
   "name": "python",
   "nbconvert_exporter": "python",
   "pygments_lexer": "ipython3",
   "version": "3.10.9"
  }
 },
 "nbformat": 4,
 "nbformat_minor": 5
}
