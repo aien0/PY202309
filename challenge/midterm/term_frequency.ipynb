{
 "cells": [
  {
   "cell_type": "markdown",
   "id": "d3aee023",
   "metadata": {},
   "source": [
    "### 3. Term frequency calculator"
   ]
  },
  {
   "cell_type": "code",
   "execution_count": 12,
   "id": "fd793c0e",
   "metadata": {
    "scrolled": true
   },
   "outputs": [
    {
     "name": "stdout",
     "output_type": "stream",
     "text": [
      "-----TF dictionary-----\n",
      "{'the': 3, 'quick': 1, 'brown': 1, 'fox': 1, 'jumps': 1, 'over': 1, 'lazy': 1, 'dog': 1, 'a': 3, 'journey': 1, 'of': 2, 'thousand': 1, 'miles': 1, 'begins': 1, 'with': 1, 'single': 1, 'step': 1, 'all': 1, 'that': 1, 'glitters': 1, 'is': 1, 'not': 1, 'gold': 1, 'in': 1, 'middle': 1, 'difficulty': 1, 'lies': 1, 'opportunity': 1, 'she': 1, 'likes': 1, 'to': 1, 'read': 1, 'books': 1}\n",
      "-----Top-3 TF terms-----\n",
      "1 the 3\n",
      "2 a 3\n",
      "3 of 2\n"
     ]
    }
   ],
   "source": [
    "import operator\n",
    "sentences = [\n",
    "    \"The quick brown fox jumps over the lazy dog.\",\n",
    "    \"A journey of a thousand miles begins with a single step.\",\n",
    "    \"All that glitters is not gold.\",    \n",
    "    \"In the middle of difficulty lies opportunity.\",\n",
    "    \"She likes to read books.\"\n",
    "]\n",
    "\n",
    "\n",
    "# TODO 1: 토큰 집합 만들기\n",
    "# 각 문장을 소문자로 변환하고, 마침표를 제거한 후, 공백을 기준으로 단어로 분리한 다음, total_terms 세트에 추가\n",
    "total_terms = set()\n",
    "for sentence in sentences:\n",
    "    words = sentence.lower().replace(\".\", \"\").split()\n",
    "    total_terms.update(words)\n",
    "\n",
    "\n",
    "# TODO 2: 토큰 별 단어 빈도를 딕셔너리에 저장\n",
    "term_frequency_dict = {} # 토큰 별 단어 빈도 저장할 딕셔너리\n",
    "\n",
    "# 각 문장을 소문자로 변환하고, 마침표를 제거한 후, 공백을 기준으로 단어로 분리\n",
    "# 이미 딕셔너리에 있는 단어라면 빈도를 증가시키고, 없는 단어라면 새로운 키로 추가\n",
    "for sentence in sentences:\n",
    "    words = sentence.lower().replace(\".\", \"\").split()\n",
    "    for word in words:\n",
    "        if word in term_frequency_dict:\n",
    "            term_frequency_dict[word] += 1\n",
    "        else:\n",
    "            term_frequency_dict[word] = 1\n",
    "            \n",
    "\n",
    "# 토큰 빈도 출력\n",
    "print(\"-----TF dictionary-----\")\n",
    "print(term_frequency_dict)\n",
    "\n",
    "# 빈도에 따라 내림차순으로 정렬\n",
    "sorted_tf = sorted(term_frequency_dict.items(), key=operator.itemgetter(1), reverse=True)\n",
    "\n",
    "\n",
    "print(\"-----Top-3 TF terms-----\")\n",
    "# TODO 3: Top-3 토큰 빈도를 갖는 단어의 순위, 단어, 빈도 출력 코드 작성\n",
    "# 상위 1~3번째로 많이 나타난 단어와 빈도 출력\n",
    "for rank, (word, frequency) in enumerate(sorted_tf[:3], 1):\n",
    "    print(rank, word, frequency)"
   ]
  }
 ],
 "metadata": {
  "kernelspec": {
   "display_name": "Python 3 (ipykernel)",
   "language": "python",
   "name": "python3"
  },
  "language_info": {
   "codemirror_mode": {
    "name": "ipython",
    "version": 3
   },
   "file_extension": ".py",
   "mimetype": "text/x-python",
   "name": "python",
   "nbconvert_exporter": "python",
   "pygments_lexer": "ipython3",
   "version": "3.10.9"
  }
 },
 "nbformat": 4,
 "nbformat_minor": 5
}
